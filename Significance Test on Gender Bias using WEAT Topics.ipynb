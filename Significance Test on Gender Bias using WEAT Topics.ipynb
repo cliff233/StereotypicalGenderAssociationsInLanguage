{
 "cells": [
  {
   "cell_type": "markdown",
   "metadata": {},
   "source": [
    "# Load Gender Words"
   ]
  },
  {
   "cell_type": "code",
   "execution_count": null,
   "metadata": {
    "collapsed": false
   },
   "outputs": [
    {
     "name": "stdout",
     "output_type": "stream",
     "text": [
      "WEAT Dataset Loading\n",
      "WEAT_Topic_Family ['home', 'parents', 'children', 'family', 'cousins', 'marriage', 'wedding', 'relatives']\n",
      "WEAT_Topic_Male ['he', 'his', 'man', 'male', 'boy', 'son', 'brother', 'father', 'uncle', 'gentleman']\n",
      "WEAT_Topic_Female ['she', 'her', 'woman', 'female', 'girl', 'daughter', 'sister', 'mother', 'aunt', 'lady']\n",
      "Done!\n"
     ]
    }
   ],
   "source": [
    "from compute_gender_bias import Gender_Bias\n",
    "\n",
    "domains = [\"WEAT_Topic_Female\", \"WEAT_Topic_Male\", \"WEAT_Topic_Family\"]\n",
    "\n",
    "\n",
    "gender_profile_lang = Gender_Bias(domains)\n",
    "gender_profile_lang.load_embeddings(start=0, end=200)\n",
    "\n",
    "gender_profile_lang.load_weat_words()\n",
    "gender_profile_lang.create_data_store_stats()\n",
    "print(\"Done!\")"
   ]
  },
  {
   "cell_type": "markdown",
   "metadata": {},
   "source": [
    "## Compute Regression Params and Bias Scores for Randomized Domain Words"
   ]
  },
  {
   "cell_type": "code",
   "execution_count": null,
   "metadata": {
    "collapsed": false,
    "scrolled": true
   },
   "outputs": [],
   "source": [
    "from plotting_utility import compute_bias_without_plot\n",
    "import time\n",
    "\n",
    "lang_regression = []\n",
    "start = time.time()\n",
    "\n",
    "for k in range(0, 1000):\n",
    "    gender_profile_lang.randomize_weat_words()\n",
    "    gender_profile_lang.create_data_store_stats()\n",
    "\n",
    "    regression_params, bias_score = compute_bias_without_plot(gender_profile_lang)\n",
    "    lang_regression.append(regression_params[0])\n",
    "    \n",
    "end = time.time()"
   ]
  },
  {
   "cell_type": "code",
   "execution_count": null,
   "metadata": {
    "collapsed": false
   },
   "outputs": [],
   "source": [
    "import matplotlib.pyplot as plt\n",
    "import seaborn as sns\n",
    "sns.set()\n",
    "\n",
    "slope = []\n",
    "intercept = []\n",
    "for i in range(0, len(lang_regression)):\n",
    "    slope.append(lang_regression[i][2])\n",
    "    intercept.append(lang_regression[i][3])\n",
    "\n",
    "plt.figure(figsize=(16, 6))\n",
    "plt.subplot(1, 2, 1)\n",
    "plt.hist(slope)\n",
    "plt.title(\"Histogram of Slope for \" + lang_regression[0][0][:])\n",
    "\n",
    "plt.subplot(1, 2, 2)\n",
    "plt.hist(intercept)\n",
    "plt.title(\"Histogram of Intercept for \" + lang_regression[0][0][:])\n",
    "\n",
    "plt.show()"
   ]
  },
  {
   "cell_type": "markdown",
   "metadata": {},
   "source": [
    "# Load Domain Words"
   ]
  },
  {
   "cell_type": "code",
   "execution_count": null,
   "metadata": {
    "collapsed": false
   },
   "outputs": [],
   "source": [
    "domains = [\"WEAT_Topic_Female\", \"WEAT_Topic_Male\", \"WEAT_Topic_Family\", \\\n",
    "                \"WEAT_Topic_Career\", \"WEAT_Topic_Science\", \"WEAT_Topic_Arts\"]\n",
    "\n",
    "\n",
    "gender_profile_lang = Gender_Bias(domains)\n",
    "gender_profile_lang.load_embeddings(start=0, end=200)\n",
    "\n",
    "gender_profile_lang.load_weat_words()\n",
    "gender_profile_lang.create_data_store_stats()\n",
    "print(\"Done!\")"
   ]
  },
  {
   "cell_type": "markdown",
   "metadata": {},
   "source": [
    "## Compute Regression Params and Bias Scores for Domain Words"
   ]
  },
  {
   "cell_type": "code",
   "execution_count": null,
   "metadata": {
    "collapsed": false
   },
   "outputs": [],
   "source": [
    "from plotting_utility import compute_bias_against_weat\n",
    "\n",
    "regression_params, bias_scores = compute_bias_against_weat(gender_profile_lang)\n"
   ]
  },
  {
   "cell_type": "code",
   "execution_count": null,
   "metadata": {
    "collapsed": false
   },
   "outputs": [],
   "source": [
    "import numpy as np\n",
    "import scipy\n",
    "\n",
    "slope = []\n",
    "intercept = []\n",
    "for i in range(0, len(lang_regression)):\n",
    "    slope.append(lang_regression[i][2])\n",
    "    intercept.append(lang_regression[i][3])\n",
    "\n",
    "slope_mean = np.average(slope)\n",
    "slope_std = np.std(slope)\n",
    "print(\"Slope Mean/STD: \", slope_mean, slope_std)\n",
    "\n",
    "print(\"Compute P-value of Slope for \" + lang_regression[0][0])\n",
    "for i in range(len(regression_params)):\n",
    "    slope_z_score = (regression_params[i][2] - slope_mean) / slope_std\n",
    "    p_value = scipy.stats.norm.sf(abs(slope_z_score))\n",
    "    print(\"P-value for \" + regression_params[i][1] + \": \" + str(p_value))\n",
    "print()\n",
    "\n",
    "intercept_mean = np.average(intercept)\n",
    "intercept_std = np.std(intercept)\n",
    "print(\"Intercept Mean/STD: \", intercept_mean, intercept_std)\n",
    "\n",
    "print(\"Compute P-value of Intercept for \" + lang_regression[0][0])\n",
    "for i in range(len(regression_params)):\n",
    "    intercept_z_score = (regression_params[i][3] - intercept_mean) / intercept_std\n",
    "    p_value = scipy.stats.norm.sf(abs(intercept_z_score))\n",
    "    print(\"P-value for \" + regression_params[i][1] + \": \" + str(p_value))\n"
   ]
  },
  {
   "cell_type": "markdown",
   "metadata": {},
   "source": [
    "### Changes in Associations over Time of Domain Words w.r.t. the Randomized Word Lists"
   ]
  },
  {
   "cell_type": "code",
   "execution_count": null,
   "metadata": {
    "collapsed": false
   },
   "outputs": [],
   "source": [
    "color = [\"red\", \"green\", \"blue\", \"black\"]\n",
    "\n",
    "plt.figure(figsize=(16, 6))\n",
    "plt.subplot(1, 2, 1)\n",
    "plt.hist(slope, bins=50)\n",
    "plt.title(\"Histogram of Slope for \" + lang_regression[0][0])\n",
    "\n",
    "l = 0\n",
    "for i in range(len(regression_params)):\n",
    "    plt.axvline(regression_params[i][2], linewidth=2., \\\n",
    "                color=color[l], label=regression_params[i][1])\n",
    "    l += 1\n",
    "plt.legend(loc=1)\n",
    "\n",
    "plt.subplot(1, 2, 2)\n",
    "plt.hist(intercept, bins=50)\n",
    "plt.title(\"Histogram of Intercept for \" + lang_regression[0][0])\n",
    "\n",
    "l = 0\n",
    "for i in range(len(regression_params)):\n",
    "    plt.axvline(regression_params[i][3], linewidth=2., \\\n",
    "                color=color[l], label=regression_params[i][1])\n",
    "    l += 1\n",
    "plt.legend(loc=1)\n",
    "\n",
    "\n"
   ]
  },
  {
   "cell_type": "code",
   "execution_count": 8,
   "metadata": {
    "collapsed": false
   },
   "outputs": [
    {
     "data": {
      "image/png": "[encoded data removed]",
      "text/plain": [
       "<matplotlib.figure.Figure at 0x7f3c0b993780>"
      ]
     },
     "metadata": {},
     "output_type": "display_data"
    }
   ],
   "source": [
    "plt.show()"
   ]
  },
  {
   "cell_type": "code",
   "execution_count": null,
   "metadata": {
    "collapsed": true
   },
   "outputs": [],
   "source": []
  }
 ],
 "metadata": {
  "kernelspec": {
   "display_name": "Python 3",
   "language": "python",
   "name": "python3"
  },
  "language_info": {
   "codemirror_mode": {
    "name": "ipython",
    "version": 3
   },
   "file_extension": ".py",
   "mimetype": "text/x-python",
   "name": "python",
   "nbconvert_exporter": "python",
   "pygments_lexer": "ipython3",
   "version": "3.6.0"
  }
 },
 "nbformat": 4,
 "nbformat_minor": 2
}
